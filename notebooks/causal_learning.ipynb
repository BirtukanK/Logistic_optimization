{
 "cells": [
  {
   "cell_type": "markdown",
   "metadata": {},
   "source": [
    "Causal learning\n",
    "In causal learning we split our data into training and hold-out set then we create the causal graph. \n"
   ]
  },
  {
   "cell_type": "code",
   "execution_count": 6,
   "metadata": {},
   "outputs": [],
   "source": [
    "import pandas as pd\n",
    "import numpy as np\n",
    "import matplotlib as plt\n",
    "import sys, os"
   ]
  },
  {
   "cell_type": "code",
   "execution_count": 9,
   "metadata": {},
   "outputs": [],
   "source": [
    "sys.path.append(os.path.abspath(os.path.join('../scripts')))\n",
    "# from plot import Plots as plot\n",
    "import dvc.api"
   ]
  },
  {
   "cell_type": "code",
   "execution_count": 10,
   "metadata": {},
   "outputs": [],
   "source": [
    "# the path to the data set\n",
    "path = '../data/final_data.csv'\n",
    "\n",
    "# base repository\n",
    "repo = 'https://github.com/BirtukanK/Logistic_optimization'\n",
    "version = '654fc493796d5178866a63176d45e38f02f10445'"
   ]
  },
  {
   "cell_type": "code",
   "execution_count": 13,
   "metadata": {},
   "outputs": [],
   "source": [
    "data_url = dvc.api.read(path = path, repo = repo, rev = version)"
   ]
  },
  {
   "cell_type": "code",
   "execution_count": 14,
   "metadata": {},
   "outputs": [],
   "source": [
    "# reading data using pandas library\n",
    "from io import StringIO\n",
    "\n",
    "\n",
    "df = pd.read_csv(StringIO(data_url))"
   ]
  },
  {
   "cell_type": "code",
   "execution_count": 6,
   "metadata": {},
   "outputs": [
    {
     "data": {
      "text/plain": [
       "Index(['id', 'order_id', 'driver_id', 'driver_action', 'lat', 'lng',\n",
       "       'Trip Origin', 'Trip Destination', 'Trip Start Time', 'Trip End Time',\n",
       "       'Trip_Origin_lat', 'Trip_Origin_lng', 'Trip_Destination_lat',\n",
       "       'Trip_Destination_lng', 'Distance', 'Distance_driver_origin'],\n",
       "      dtype='object')"
      ]
     },
     "execution_count": 6,
     "metadata": {},
     "output_type": "execute_result"
    }
   ],
   "source": [
    "df.columns"
   ]
  },
  {
   "cell_type": "code",
   "execution_count": 8,
   "metadata": {},
   "outputs": [],
   "source": [
    "drop_col = ['id','Trip Start Time','Trip End Time','Trip_Origin_lat', 'Trip_Origin_lng','Trip_Destination_lat','Trip_Destination_lng']\n"
   ]
  },
  {
   "cell_type": "code",
   "execution_count": 9,
   "metadata": {},
   "outputs": [
    {
     "name": "stdout",
     "output_type": "stream",
     "text": [
      "['driver_action', 'Trip Origin', 'Trip Destination', 'Trip Start Time', 'Trip End Time']\n"
     ]
    }
   ],
   "source": [
    "\n",
    "struct_data = df.copy()\n",
    "non_numeric_columns = list(struct_data.select_dtypes(exclude=[np.number]).columns)\n",
    "\n",
    "print(non_numeric_columns)\n",
    "\n"
   ]
  },
  {
   "cell_type": "markdown",
   "metadata": {},
   "source": [
    "Causal graphical models\n",
    "\n",
    "This module is used for drawing causal graph based on the idea on what is the cause and the effect."
   ]
  },
  {
   "cell_type": "code",
   "execution_count": 4,
   "metadata": {},
   "outputs": [
    {
     "name": "stdout",
     "output_type": "stream",
     "text": [
      "Collecting causalgraphicalmodels\n",
      "  Using cached causalgraphicalmodels-0.0.4-py3-none-any.whl (11 kB)\n",
      "Requirement already satisfied: networkx in /home/chuchu/anaconda3/envs/conda_env/lib/python3.8/site-packages (from causalgraphicalmodels) (2.8.7)\n",
      "Requirement already satisfied: numpy in /home/chuchu/anaconda3/envs/conda_env/lib/python3.8/site-packages (from causalgraphicalmodels) (1.23.4)\n",
      "Requirement already satisfied: pandas in /home/chuchu/anaconda3/envs/conda_env/lib/python3.8/site-packages (from causalgraphicalmodels) (1.5.1)\n",
      "Collecting graphviz\n",
      "  Using cached graphviz-0.20.1-py3-none-any.whl (47 kB)\n",
      "Requirement already satisfied: python-dateutil>=2.8.1 in /home/chuchu/.local/lib/python3.8/site-packages (from pandas->causalgraphicalmodels) (2.8.2)\n",
      "Requirement already satisfied: pytz>=2020.1 in /home/chuchu/anaconda3/envs/conda_env/lib/python3.8/site-packages (from pandas->causalgraphicalmodels) (2022.5)\n",
      "Requirement already satisfied: six>=1.5 in /home/chuchu/anaconda3/envs/conda_env/lib/python3.8/site-packages (from python-dateutil>=2.8.1->pandas->causalgraphicalmodels) (1.16.0)\n",
      "Installing collected packages: graphviz, causalgraphicalmodels\n",
      "Successfully installed causalgraphicalmodels-0.0.4 graphviz-0.20.1\n",
      "Note: you may need to restart the kernel to use updated packages.\n"
     ]
    }
   ],
   "source": [
    "pip install causalgraphicalmodels"
   ]
  },
  {
   "cell_type": "code",
   "execution_count": 1,
   "metadata": {},
   "outputs": [],
   "source": [
    "from causalgraphicalmodels import CausalGraphicalModel"
   ]
  },
  {
   "cell_type": "code",
   "execution_count": 2,
   "metadata": {},
   "outputs": [
    {
     "data": {
      "image/svg+xml": "<?xml version=\"1.0\" encoding=\"UTF-8\" standalone=\"no\"?>\n<!DOCTYPE svg PUBLIC \"-//W3C//DTD SVG 1.1//EN\"\n \"http://www.w3.org/Graphics/SVG/1.1/DTD/svg11.dtd\">\n<!-- Generated by graphviz version 2.43.0 (0)\n -->\n<!-- Title: %3 Pages: 1 -->\n<svg width=\"246pt\" height=\"332pt\"\n viewBox=\"0.00 0.00 245.88 332.00\" xmlns=\"http://www.w3.org/2000/svg\" xmlns:xlink=\"http://www.w3.org/1999/xlink\">\n<g id=\"graph0\" class=\"graph\" transform=\"scale(1 1) rotate(0) translate(4 328)\">\n<title>%3</title>\n<polygon fill=\"white\" stroke=\"transparent\" points=\"-4,4 -4,-328 241.88,-328 241.88,4 -4,4\"/>\n<!-- rejected -->\n<g id=\"node1\" class=\"node\">\n<title>rejected</title>\n<ellipse fill=\"none\" stroke=\"black\" cx=\"59.94\" cy=\"-162\" rx=\"48.99\" ry=\"18\"/>\n<text text-anchor=\"middle\" x=\"59.94\" y=\"-158.3\" font-family=\"Times,serif\" font-size=\"14.00\">rejected</text>\n</g>\n<!-- distance_orderVsdriver -->\n<g id=\"node6\" class=\"node\">\n<title>distance_orderVsdriver</title>\n<ellipse fill=\"none\" stroke=\"black\" cx=\"118.94\" cy=\"-90\" rx=\"118.88\" ry=\"18\"/>\n<text text-anchor=\"middle\" x=\"118.94\" y=\"-86.3\" font-family=\"Times,serif\" font-size=\"14.00\">distance_orderVsdriver</text>\n</g>\n<!-- rejected&#45;&gt;distance_orderVsdriver -->\n<g id=\"edge5\" class=\"edge\">\n<title>rejected&#45;&gt;distance_orderVsdriver</title>\n<path fill=\"none\" stroke=\"black\" d=\"M73.92,-144.41C81.16,-135.82 90.15,-125.16 98.18,-115.63\"/>\n<polygon fill=\"black\" stroke=\"black\" points=\"100.88,-117.86 104.65,-107.96 95.53,-113.35 100.88,-117.86\"/>\n</g>\n<!-- driver_action -->\n<g id=\"node2\" class=\"node\">\n<title>driver_action</title>\n<ellipse fill=\"none\" stroke=\"black\" cx=\"118.94\" cy=\"-234\" rx=\"71.49\" ry=\"18\"/>\n<text text-anchor=\"middle\" x=\"118.94\" y=\"-230.3\" font-family=\"Times,serif\" font-size=\"14.00\">driver_action</text>\n</g>\n<!-- driver_action&#45;&gt;rejected -->\n<g id=\"edge3\" class=\"edge\">\n<title>driver_action&#45;&gt;rejected</title>\n<path fill=\"none\" stroke=\"black\" d=\"M104.66,-216.05C97.3,-207.33 88.21,-196.54 80.15,-186.98\"/>\n<polygon fill=\"black\" stroke=\"black\" points=\"82.8,-184.7 73.68,-179.31 77.45,-189.21 82.8,-184.7\"/>\n</g>\n<!-- accepted -->\n<g id=\"node5\" class=\"node\">\n<title>accepted</title>\n<ellipse fill=\"none\" stroke=\"black\" cx=\"178.94\" cy=\"-162\" rx=\"51.99\" ry=\"18\"/>\n<text text-anchor=\"middle\" x=\"178.94\" y=\"-158.3\" font-family=\"Times,serif\" font-size=\"14.00\">accepted</text>\n</g>\n<!-- driver_action&#45;&gt;accepted -->\n<g id=\"edge2\" class=\"edge\">\n<title>driver_action&#45;&gt;accepted</title>\n<path fill=\"none\" stroke=\"black\" d=\"M133.46,-216.05C140.83,-207.46 149.92,-196.86 158.03,-187.4\"/>\n<polygon fill=\"black\" stroke=\"black\" points=\"160.7,-189.66 164.55,-179.79 155.38,-185.1 160.7,-189.66\"/>\n</g>\n<!-- order -->\n<g id=\"node3\" class=\"node\">\n<title>order</title>\n<ellipse fill=\"none\" stroke=\"black\" cx=\"118.94\" cy=\"-306\" rx=\"36.29\" ry=\"18\"/>\n<text text-anchor=\"middle\" x=\"118.94\" y=\"-302.3\" font-family=\"Times,serif\" font-size=\"14.00\">order</text>\n</g>\n<!-- order&#45;&gt;driver_action -->\n<g id=\"edge1\" class=\"edge\">\n<title>order&#45;&gt;driver_action</title>\n<path fill=\"none\" stroke=\"black\" d=\"M118.94,-287.7C118.94,-279.98 118.94,-270.71 118.94,-262.11\"/>\n<polygon fill=\"black\" stroke=\"black\" points=\"122.44,-262.1 118.94,-252.1 115.44,-262.1 122.44,-262.1\"/>\n</g>\n<!-- Unfulfilled_request -->\n<g id=\"node4\" class=\"node\">\n<title>Unfulfilled_request</title>\n<ellipse fill=\"none\" stroke=\"black\" cx=\"118.94\" cy=\"-18\" rx=\"100.18\" ry=\"18\"/>\n<text text-anchor=\"middle\" x=\"118.94\" y=\"-14.3\" font-family=\"Times,serif\" font-size=\"14.00\">Unfulfilled_request</text>\n</g>\n<!-- accepted&#45;&gt;distance_orderVsdriver -->\n<g id=\"edge4\" class=\"edge\">\n<title>accepted&#45;&gt;distance_orderVsdriver</title>\n<path fill=\"none\" stroke=\"black\" d=\"M164.72,-144.41C157.36,-135.82 148.22,-125.16 140.05,-115.63\"/>\n<polygon fill=\"black\" stroke=\"black\" points=\"142.64,-113.27 133.47,-107.96 137.32,-117.83 142.64,-113.27\"/>\n</g>\n<!-- distance_orderVsdriver&#45;&gt;Unfulfilled_request -->\n<g id=\"edge6\" class=\"edge\">\n<title>distance_orderVsdriver&#45;&gt;Unfulfilled_request</title>\n<path fill=\"none\" stroke=\"black\" d=\"M118.94,-71.7C118.94,-63.98 118.94,-54.71 118.94,-46.11\"/>\n<polygon fill=\"black\" stroke=\"black\" points=\"122.44,-46.1 118.94,-36.1 115.44,-46.1 122.44,-46.1\"/>\n</g>\n</g>\n</svg>\n",
      "text/plain": [
       "<graphviz.graphs.Digraph at 0x7f8d6e2c41c0>"
      ]
     },
     "execution_count": 2,
     "metadata": {},
     "output_type": "execute_result"
    }
   ],
   "source": [
    "sprinkler = CausalGraphicalModel(\n",
    "    nodes=[\"order\", \"driver_action\", \"accepted\", \"rejected\", \"distance_orderVsdriver\", \"Unfulfilled_request\"],\n",
    "    edges=[\n",
    "        (\"order\", \"driver_action\"), \n",
    "        (\"driver_action\", \"accepted\"), \n",
    "        (\"driver_action\", \"rejected\"),\n",
    "        (\"accepted\", \"distance_orderVsdriver\"), \n",
    "        (\"rejected\", \"distance_orderVsdriver\"),\n",
    "        (\"distance_orderVsdriver\", \"Unfulfilled_request\")\n",
    "    ]\n",
    ")\n",
    "\n",
    "# draw return a graphviz `dot` object, which jupyter can render\n",
    "sprinkler.draw()"
   ]
  },
  {
   "cell_type": "code",
   "execution_count": 3,
   "metadata": {},
   "outputs": [
    {
     "name": "stdout",
     "output_type": "stream",
     "text": [
      "P(order)P(driver_action|order)P(accepted|driver_action)P(rejected|driver_action)P(distance_orderVsdriver|accepted,rejected)P(Unfulfilled_request|distance_orderVsdriver)\n"
     ]
    }
   ],
   "source": [
    "print(sprinkler.get_distribution())"
   ]
  },
  {
   "cell_type": "code",
   "execution_count": 4,
   "metadata": {},
   "outputs": [
    {
     "data": {
      "text/plain": [
       "False"
      ]
     },
     "execution_count": 4,
     "metadata": {},
     "output_type": "execute_result"
    }
   ],
   "source": [
    "# check for d-seperation of two nodes\n",
    "sprinkler.is_d_separated(\"Unfulfilled_request\", \"order\", {\"accepted\"})"
   ]
  },
  {
   "cell_type": "code",
   "execution_count": 5,
   "metadata": {},
   "outputs": [
    {
     "data": {
      "text/plain": [
       "[('rejected', 'order', {'driver_action'}),\n",
       " ('rejected', 'order', {'accepted', 'driver_action'}),\n",
       " ('rejected', 'order', {'distance_orderVsdriver', 'driver_action'}),\n",
       " ('rejected', 'order', {'Unfulfilled_request', 'driver_action'}),\n",
       " ('rejected',\n",
       "  'order',\n",
       "  {'accepted', 'distance_orderVsdriver', 'driver_action'}),\n",
       " ('rejected', 'order', {'Unfulfilled_request', 'accepted', 'driver_action'}),\n",
       " ('rejected',\n",
       "  'order',\n",
       "  {'Unfulfilled_request', 'distance_orderVsdriver', 'driver_action'}),\n",
       " ('rejected',\n",
       "  'order',\n",
       "  {'Unfulfilled_request',\n",
       "   'accepted',\n",
       "   'distance_orderVsdriver',\n",
       "   'driver_action'}),\n",
       " ('rejected', 'Unfulfilled_request', {'distance_orderVsdriver'}),\n",
       " ('rejected', 'Unfulfilled_request', {'accepted', 'distance_orderVsdriver'}),\n",
       " ('rejected', 'Unfulfilled_request', {'distance_orderVsdriver', 'order'}),\n",
       " ('rejected',\n",
       "  'Unfulfilled_request',\n",
       "  {'distance_orderVsdriver', 'driver_action'}),\n",
       " ('rejected',\n",
       "  'Unfulfilled_request',\n",
       "  {'accepted', 'distance_orderVsdriver', 'order'}),\n",
       " ('rejected',\n",
       "  'Unfulfilled_request',\n",
       "  {'accepted', 'distance_orderVsdriver', 'driver_action'}),\n",
       " ('rejected',\n",
       "  'Unfulfilled_request',\n",
       "  {'distance_orderVsdriver', 'driver_action', 'order'}),\n",
       " ('rejected',\n",
       "  'Unfulfilled_request',\n",
       "  {'accepted', 'distance_orderVsdriver', 'driver_action', 'order'}),\n",
       " ('rejected', 'accepted', {'driver_action'}),\n",
       " ('rejected', 'accepted', {'driver_action', 'order'}),\n",
       " ('driver_action', 'Unfulfilled_request', {'distance_orderVsdriver'}),\n",
       " ('driver_action', 'Unfulfilled_request', {'accepted', 'rejected'}),\n",
       " ('driver_action',\n",
       "  'Unfulfilled_request',\n",
       "  {'distance_orderVsdriver', 'rejected'}),\n",
       " ('driver_action',\n",
       "  'Unfulfilled_request',\n",
       "  {'accepted', 'distance_orderVsdriver'}),\n",
       " ('driver_action', 'Unfulfilled_request', {'distance_orderVsdriver', 'order'}),\n",
       " ('driver_action', 'Unfulfilled_request', {'accepted', 'order', 'rejected'}),\n",
       " ('driver_action',\n",
       "  'Unfulfilled_request',\n",
       "  {'accepted', 'distance_orderVsdriver', 'rejected'}),\n",
       " ('driver_action',\n",
       "  'Unfulfilled_request',\n",
       "  {'distance_orderVsdriver', 'order', 'rejected'}),\n",
       " ('driver_action',\n",
       "  'Unfulfilled_request',\n",
       "  {'accepted', 'distance_orderVsdriver', 'order'}),\n",
       " ('driver_action',\n",
       "  'Unfulfilled_request',\n",
       "  {'accepted', 'distance_orderVsdriver', 'order', 'rejected'}),\n",
       " ('driver_action', 'distance_orderVsdriver', {'accepted', 'rejected'}),\n",
       " ('driver_action',\n",
       "  'distance_orderVsdriver',\n",
       "  {'accepted', 'order', 'rejected'}),\n",
       " ('driver_action',\n",
       "  'distance_orderVsdriver',\n",
       "  {'Unfulfilled_request', 'accepted', 'rejected'}),\n",
       " ('driver_action',\n",
       "  'distance_orderVsdriver',\n",
       "  {'Unfulfilled_request', 'accepted', 'order', 'rejected'}),\n",
       " ('order', 'Unfulfilled_request', {'distance_orderVsdriver'}),\n",
       " ('order', 'Unfulfilled_request', {'driver_action'}),\n",
       " ('order', 'Unfulfilled_request', {'accepted', 'rejected'}),\n",
       " ('order', 'Unfulfilled_request', {'distance_orderVsdriver', 'rejected'}),\n",
       " ('order', 'Unfulfilled_request', {'driver_action', 'rejected'}),\n",
       " ('order', 'Unfulfilled_request', {'accepted', 'distance_orderVsdriver'}),\n",
       " ('order', 'Unfulfilled_request', {'accepted', 'driver_action'}),\n",
       " ('order', 'Unfulfilled_request', {'distance_orderVsdriver', 'driver_action'}),\n",
       " ('order',\n",
       "  'Unfulfilled_request',\n",
       "  {'accepted', 'distance_orderVsdriver', 'rejected'}),\n",
       " ('order', 'Unfulfilled_request', {'accepted', 'driver_action', 'rejected'}),\n",
       " ('order',\n",
       "  'Unfulfilled_request',\n",
       "  {'distance_orderVsdriver', 'driver_action', 'rejected'}),\n",
       " ('order',\n",
       "  'Unfulfilled_request',\n",
       "  {'accepted', 'distance_orderVsdriver', 'driver_action'}),\n",
       " ('order',\n",
       "  'Unfulfilled_request',\n",
       "  {'accepted', 'distance_orderVsdriver', 'driver_action', 'rejected'}),\n",
       " ('order', 'accepted', {'driver_action'}),\n",
       " ('order', 'accepted', {'driver_action', 'rejected'}),\n",
       " ('order', 'accepted', {'distance_orderVsdriver', 'driver_action'}),\n",
       " ('order', 'accepted', {'Unfulfilled_request', 'driver_action'}),\n",
       " ('order',\n",
       "  'accepted',\n",
       "  {'distance_orderVsdriver', 'driver_action', 'rejected'}),\n",
       " ('order', 'accepted', {'Unfulfilled_request', 'driver_action', 'rejected'}),\n",
       " ('order',\n",
       "  'accepted',\n",
       "  {'Unfulfilled_request', 'distance_orderVsdriver', 'driver_action'}),\n",
       " ('order',\n",
       "  'accepted',\n",
       "  {'Unfulfilled_request',\n",
       "   'distance_orderVsdriver',\n",
       "   'driver_action',\n",
       "   'rejected'}),\n",
       " ('order', 'distance_orderVsdriver', {'driver_action'}),\n",
       " ('order', 'distance_orderVsdriver', {'accepted', 'rejected'}),\n",
       " ('order', 'distance_orderVsdriver', {'driver_action', 'rejected'}),\n",
       " ('order', 'distance_orderVsdriver', {'accepted', 'driver_action'}),\n",
       " ('order', 'distance_orderVsdriver', {'Unfulfilled_request', 'driver_action'}),\n",
       " ('order',\n",
       "  'distance_orderVsdriver',\n",
       "  {'accepted', 'driver_action', 'rejected'}),\n",
       " ('order',\n",
       "  'distance_orderVsdriver',\n",
       "  {'Unfulfilled_request', 'accepted', 'rejected'}),\n",
       " ('order',\n",
       "  'distance_orderVsdriver',\n",
       "  {'Unfulfilled_request', 'driver_action', 'rejected'}),\n",
       " ('order',\n",
       "  'distance_orderVsdriver',\n",
       "  {'Unfulfilled_request', 'accepted', 'driver_action'}),\n",
       " ('order',\n",
       "  'distance_orderVsdriver',\n",
       "  {'Unfulfilled_request', 'accepted', 'driver_action', 'rejected'}),\n",
       " ('Unfulfilled_request', 'accepted', {'distance_orderVsdriver'}),\n",
       " ('Unfulfilled_request', 'accepted', {'distance_orderVsdriver', 'rejected'}),\n",
       " ('Unfulfilled_request', 'accepted', {'distance_orderVsdriver', 'order'}),\n",
       " ('Unfulfilled_request',\n",
       "  'accepted',\n",
       "  {'distance_orderVsdriver', 'driver_action'}),\n",
       " ('Unfulfilled_request',\n",
       "  'accepted',\n",
       "  {'distance_orderVsdriver', 'order', 'rejected'}),\n",
       " ('Unfulfilled_request',\n",
       "  'accepted',\n",
       "  {'distance_orderVsdriver', 'driver_action', 'rejected'}),\n",
       " ('Unfulfilled_request',\n",
       "  'accepted',\n",
       "  {'distance_orderVsdriver', 'driver_action', 'order'}),\n",
       " ('Unfulfilled_request',\n",
       "  'accepted',\n",
       "  {'distance_orderVsdriver', 'driver_action', 'order', 'rejected'})]"
      ]
     },
     "execution_count": 5,
     "metadata": {},
     "output_type": "execute_result"
    }
   ],
   "source": [
    "# get all the conditional independence relationships implied by a CGM\n",
    "sprinkler.get_all_independence_relationships()"
   ]
  },
  {
   "cell_type": "code",
   "execution_count": 8,
   "metadata": {},
   "outputs": [
    {
     "data": {
      "image/svg+xml": "<?xml version=\"1.0\" encoding=\"UTF-8\" standalone=\"no\"?>\n<!DOCTYPE svg PUBLIC \"-//W3C//DTD SVG 1.1//EN\"\n \"http://www.w3.org/Graphics/SVG/1.1/DTD/svg11.dtd\">\n<!-- Generated by graphviz version 2.43.0 (0)\n -->\n<!-- Title: %3 Pages: 1 -->\n<svg width=\"260pt\" height=\"340pt\"\n viewBox=\"0.00 0.00 260.43 340.00\" xmlns=\"http://www.w3.org/2000/svg\" xmlns:xlink=\"http://www.w3.org/1999/xlink\">\n<g id=\"graph0\" class=\"graph\" transform=\"scale(1 1) rotate(0) translate(4 336)\">\n<title>%3</title>\n<polygon fill=\"white\" stroke=\"transparent\" points=\"-4,4 -4,-336 256.43,-336 256.43,4 -4,4\"/>\n<!-- rejected -->\n<g id=\"node1\" class=\"node\">\n<title>rejected</title>\n<ellipse fill=\"none\" stroke=\"black\" cx=\"57.94\" cy=\"-166\" rx=\"48.97\" ry=\"18\"/>\n<ellipse fill=\"none\" stroke=\"black\" cx=\"57.94\" cy=\"-166\" rx=\"52.99\" ry=\"22\"/>\n<text text-anchor=\"middle\" x=\"57.94\" y=\"-162.3\" font-family=\"Times,serif\" font-size=\"14.00\">rejected</text>\n</g>\n<!-- distance_orderVsdriver -->\n<g id=\"node6\" class=\"node\">\n<title>distance_orderVsdriver</title>\n<ellipse fill=\"none\" stroke=\"black\" cx=\"118.94\" cy=\"-90\" rx=\"118.88\" ry=\"18\"/>\n<text text-anchor=\"middle\" x=\"118.94\" y=\"-86.3\" font-family=\"Times,serif\" font-size=\"14.00\">distance_orderVsdriver</text>\n</g>\n<!-- rejected&#45;&gt;distance_orderVsdriver -->\n<g id=\"edge1\" class=\"edge\">\n<title>rejected&#45;&gt;distance_orderVsdriver</title>\n<path fill=\"none\" stroke=\"black\" d=\"M74.61,-144.78C81.92,-135.91 90.58,-125.41 98.29,-116.05\"/>\n<polygon fill=\"black\" stroke=\"black\" points=\"101.11,-118.13 104.77,-108.19 95.71,-113.68 101.11,-118.13\"/>\n</g>\n<!-- driver_action -->\n<g id=\"node2\" class=\"node\">\n<title>driver_action</title>\n<ellipse fill=\"none\" stroke=\"black\" cx=\"180.94\" cy=\"-242\" rx=\"71.49\" ry=\"18\"/>\n<text text-anchor=\"middle\" x=\"180.94\" y=\"-238.3\" font-family=\"Times,serif\" font-size=\"14.00\">driver_action</text>\n</g>\n<!-- accepted -->\n<g id=\"node5\" class=\"node\">\n<title>accepted</title>\n<ellipse fill=\"none\" stroke=\"black\" cx=\"180.94\" cy=\"-166\" rx=\"51.99\" ry=\"18\"/>\n<text text-anchor=\"middle\" x=\"180.94\" y=\"-162.3\" font-family=\"Times,serif\" font-size=\"14.00\">accepted</text>\n</g>\n<!-- driver_action&#45;&gt;accepted -->\n<g id=\"edge2\" class=\"edge\">\n<title>driver_action&#45;&gt;accepted</title>\n<path fill=\"none\" stroke=\"black\" d=\"M180.94,-223.84C180.94,-215.06 180.94,-204.16 180.94,-194.27\"/>\n<polygon fill=\"black\" stroke=\"black\" points=\"184.44,-194.07 180.94,-184.07 177.44,-194.07 184.44,-194.07\"/>\n</g>\n<!-- order -->\n<g id=\"node3\" class=\"node\">\n<title>order</title>\n<ellipse fill=\"none\" stroke=\"black\" cx=\"180.94\" cy=\"-314\" rx=\"36.29\" ry=\"18\"/>\n<text text-anchor=\"middle\" x=\"180.94\" y=\"-310.3\" font-family=\"Times,serif\" font-size=\"14.00\">order</text>\n</g>\n<!-- order&#45;&gt;driver_action -->\n<g id=\"edge3\" class=\"edge\">\n<title>order&#45;&gt;driver_action</title>\n<path fill=\"none\" stroke=\"black\" d=\"M180.94,-295.7C180.94,-287.98 180.94,-278.71 180.94,-270.11\"/>\n<polygon fill=\"black\" stroke=\"black\" points=\"184.44,-270.1 180.94,-260.1 177.44,-270.1 184.44,-270.1\"/>\n</g>\n<!-- Unfulfilled_request -->\n<g id=\"node4\" class=\"node\">\n<title>Unfulfilled_request</title>\n<ellipse fill=\"none\" stroke=\"black\" cx=\"118.94\" cy=\"-18\" rx=\"100.18\" ry=\"18\"/>\n<text text-anchor=\"middle\" x=\"118.94\" y=\"-14.3\" font-family=\"Times,serif\" font-size=\"14.00\">Unfulfilled_request</text>\n</g>\n<!-- accepted&#45;&gt;distance_orderVsdriver -->\n<g id=\"edge4\" class=\"edge\">\n<title>accepted&#45;&gt;distance_orderVsdriver</title>\n<path fill=\"none\" stroke=\"black\" d=\"M167.18,-148.58C159.11,-138.94 148.74,-126.57 139.7,-115.77\"/>\n<polygon fill=\"black\" stroke=\"black\" points=\"142.2,-113.31 133.09,-107.89 136.83,-117.8 142.2,-113.31\"/>\n</g>\n<!-- distance_orderVsdriver&#45;&gt;Unfulfilled_request -->\n<g id=\"edge5\" class=\"edge\">\n<title>distance_orderVsdriver&#45;&gt;Unfulfilled_request</title>\n<path fill=\"none\" stroke=\"black\" d=\"M118.94,-71.7C118.94,-63.98 118.94,-54.71 118.94,-46.11\"/>\n<polygon fill=\"black\" stroke=\"black\" points=\"122.44,-46.1 118.94,-36.1 115.44,-46.1 122.44,-46.1\"/>\n</g>\n</g>\n</svg>\n",
      "text/plain": [
       "<graphviz.graphs.Digraph at 0x7f8d6e293a30>"
      ]
     },
     "execution_count": 8,
     "metadata": {},
     "output_type": "execute_result"
    }
   ],
   "source": [
    "# get the graph created by intervening on node \"rejected\"\n",
    "do_sprinkler = sprinkler.do(\"rejected\")\n",
    "\n",
    "do_sprinkler.draw()"
   ]
  }
 ],
 "metadata": {
  "kernelspec": {
   "display_name": "Python 3.8.13 ('conda_env')",
   "language": "python",
   "name": "python3"
  },
  "language_info": {
   "codemirror_mode": {
    "name": "ipython",
    "version": 3
   },
   "file_extension": ".py",
   "mimetype": "text/x-python",
   "name": "python",
   "nbconvert_exporter": "python",
   "pygments_lexer": "ipython3",
   "version": "3.8.13"
  },
  "orig_nbformat": 4,
  "vscode": {
   "interpreter": {
    "hash": "61c9d3e915d1d442da6e23ff2e16c18f64af18e37e035ca82836b2718b4948f2"
   }
  }
 },
 "nbformat": 4,
 "nbformat_minor": 2
}
