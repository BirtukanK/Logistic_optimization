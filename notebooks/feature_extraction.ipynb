{
 "cells": [
  {
   "cell_type": "markdown",
   "metadata": {},
   "source": [
    "Feature creation and extraction\n",
    "\n",
    "we can create a new feature from the data we have that is useful for more explanation of the data currently we have."
   ]
  },
  {
   "cell_type": "code",
   "execution_count": 1,
   "metadata": {},
   "outputs": [],
   "source": [
    "import pandas as pd\n",
    "import numpy as np\n",
    "import matplotlib.pyplot as plt\n",
    "import seaborn as sns\n",
    "import sys, os"
   ]
  },
  {
   "cell_type": "code",
   "execution_count": 2,
   "metadata": {},
   "outputs": [],
   "source": [
    "sys.path.append(os.path.abspath(os.path.join('../scripts')))\n",
    "from plot import Plots as plot"
   ]
  },
  {
   "cell_type": "code",
   "execution_count": 3,
   "metadata": {},
   "outputs": [],
   "source": [
    "import dvc.api"
   ]
  },
  {
   "cell_type": "code",
   "execution_count": 4,
   "metadata": {},
   "outputs": [],
   "source": [
    "# the path to the data set\n",
    "path = '../data/final_data.csv'\n",
    "\n",
    "# base repository\n",
    "repo = 'https://github.com/BirtukanK/Logistic_optimization'\n",
    "version = '654fc493796d5178866a63176d45e38f02f10445'"
   ]
  },
  {
   "cell_type": "code",
   "execution_count": 5,
   "metadata": {},
   "outputs": [],
   "source": [
    "data_url = dvc.api.read(path = path, repo = repo, rev = version)"
   ]
  },
  {
   "cell_type": "code",
   "execution_count": 6,
   "metadata": {},
   "outputs": [],
   "source": [
    "# reading data using pandas library\n",
    "from io import StringIO\n",
    "\n",
    "\n",
    "df = pd.read_csv(StringIO(data_url))\n"
   ]
  },
  {
   "cell_type": "code",
   "execution_count": 7,
   "metadata": {},
   "outputs": [
    {
     "data": {
      "text/plain": [
       "Index(['id', 'order_id', 'driver_id', 'driver_action', 'lat', 'lng',\n",
       "       'Trip Origin', 'Trip Destination', 'Trip Start Time', 'Trip End Time',\n",
       "       'Trip_Origin_lat', 'Trip_Origin_lng', 'Trip_Destination_lat',\n",
       "       'Trip_Destination_lng', 'Distance', 'Distance_driver_origin'],\n",
       "      dtype='object')"
      ]
     },
     "execution_count": 7,
     "metadata": {},
     "output_type": "execute_result"
    }
   ],
   "source": [
    "df.columns"
   ]
  },
  {
   "cell_type": "code",
   "execution_count": 8,
   "metadata": {},
   "outputs": [
    {
     "name": "stdout",
     "output_type": "stream",
     "text": [
      "shape: (25903, 16), size: 414448\n"
     ]
    }
   ],
   "source": [
    "print(f'shape: {df.shape}, size: {df.size}')"
   ]
  },
  {
   "cell_type": "markdown",
   "metadata": {},
   "source": [
    "Calculating distance"
   ]
  },
  {
   "cell_type": "markdown",
   "metadata": {},
   "source": [
    "1- Calculating the minimum and maximum distance between a trip's origin and destnation.\n",
    "This allows us to know the shortest and logest trip arrived by driver during delivery.\n",
    "As we are seeing below the minimum distance is 0.0163 km and maximum distance is 680.08084 km"
   ]
  },
  {
   "cell_type": "code",
   "execution_count": 9,
   "metadata": {},
   "outputs": [
    {
     "data": {
      "text/plain": [
       "0.0163866080676491"
      ]
     },
     "execution_count": 9,
     "metadata": {},
     "output_type": "execute_result"
    }
   ],
   "source": [
    "df[\"Distance\"].min()\n"
   ]
  },
  {
   "cell_type": "code",
   "execution_count": 10,
   "metadata": {},
   "outputs": [
    {
     "data": {
      "text/plain": [
       "680.0808474078148"
      ]
     },
     "execution_count": 10,
     "metadata": {},
     "output_type": "execute_result"
    }
   ],
   "source": [
    "df[\"Distance\"].max()"
   ]
  },
  {
   "cell_type": "markdown",
   "metadata": {},
   "source": [
    "2- Calculating the minimum and maximum distance between the location of driver \n",
    "during accepting the order and origin of an order.\n",
    "So the minimum distance is 0.0 which implies that the driver was there when he/she accepts that order.\n",
    "and the maximum distance is 656.072 km.\n"
   ]
  },
  {
   "cell_type": "code",
   "execution_count": 11,
   "metadata": {},
   "outputs": [
    {
     "data": {
      "text/plain": [
       "0.0"
      ]
     },
     "execution_count": 11,
     "metadata": {},
     "output_type": "execute_result"
    }
   ],
   "source": [
    "df[\"Distance_driver_origin\"].min()"
   ]
  },
  {
   "cell_type": "code",
   "execution_count": 12,
   "metadata": {},
   "outputs": [
    {
     "data": {
      "text/plain": [
       "656.0725521429684"
      ]
     },
     "execution_count": 12,
     "metadata": {},
     "output_type": "execute_result"
    }
   ],
   "source": [
    "df[\"Distance_driver_origin\"].max()"
   ]
  },
  {
   "cell_type": "code",
   "execution_count": 13,
   "metadata": {},
   "outputs": [],
   "source": [
    "df['Distance_driver_origin'] = df[\"Distance_driver_origin\"] * 1000"
   ]
  },
  {
   "cell_type": "markdown",
   "metadata": {},
   "source": [
    "As calclated below the number of riders and order in circles of 500m from the accepted and unfulfilled orders is 3574."
   ]
  },
  {
   "cell_type": "code",
   "execution_count": 27,
   "metadata": {},
   "outputs": [
    {
     "data": {
      "text/plain": [
       "4        197.852931\n",
       "21       347.779124\n",
       "56       479.814711\n",
       "70       353.618038\n",
       "75       155.675727\n",
       "            ...    \n",
       "25873      2.985699\n",
       "25876      2.985699\n",
       "25880    416.529518\n",
       "25884    120.861064\n",
       "25885    121.152647\n",
       "Name: Distance_driver_origin, Length: 3574, dtype: float64"
      ]
     },
     "execution_count": 27,
     "metadata": {},
     "output_type": "execute_result"
    }
   ],
   "source": [
    "filter_ = (df['Distance_driver_origin'] <= 500)\n",
    "df[filter_]['Distance_driver_origin']"
   ]
  },
  {
   "cell_type": "code",
   "execution_count": 33,
   "metadata": {},
   "outputs": [
    {
     "data": {
      "text/plain": [
       "25903"
      ]
     },
     "execution_count": 33,
     "metadata": {},
     "output_type": "execute_result"
    }
   ],
   "source": [
    "df['driver_id'].count()"
   ]
  }
 ],
 "metadata": {
  "kernelspec": {
   "display_name": "Python 3.9.12 ('base')",
   "language": "python",
   "name": "python3"
  },
  "language_info": {
   "codemirror_mode": {
    "name": "ipython",
    "version": 3
   },
   "file_extension": ".py",
   "mimetype": "text/x-python",
   "name": "python",
   "nbconvert_exporter": "python",
   "pygments_lexer": "ipython3",
   "version": "3.9.12"
  },
  "orig_nbformat": 4,
  "vscode": {
   "interpreter": {
    "hash": "18372336be48e270fc508af12b42d612e14c9ec37c700ded6288ffdb804adc4f"
   }
  }
 },
 "nbformat": 4,
 "nbformat_minor": 2
}
